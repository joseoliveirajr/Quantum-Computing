{
 "cells": [
  {
   "cell_type": "code",
   "execution_count": 2,
   "metadata": {},
   "outputs": [],
   "source": [
    "import matplotlib.pyplot as plt\n",
    "%matplotlib inline\n",
    "import numpy as np\n",
    "\n",
    "from qiskit import IBMQ, BasicAer\n",
    "from qiskit.providers.ibmq import least_busy\n",
    "from qiskit import QuantumCircuit, ClassicalRegister, QuantumRegister, execute\n",
    "\n",
    "from qiskit.tools.visualization import plot_histogram\n",
    "from IPython.display import display, Math, Latex"
   ]
  },
  {
   "cell_type": "markdown",
   "metadata": {},
   "source": [
    "# Quantum Computing and the Deutsch-Jozsa Algorithm"
   ]
  },
  {
   "cell_type": "markdown",
   "metadata": {},
   "source": [
    "## Why Quantum Computing ?"
   ]
  },
  {
   "cell_type": "markdown",
   "metadata": {},
   "source": [
    "In 1981, the Nobel laureate Richard Feynman asked, “What kind of computer are we going to use to simulate physics?”\n",
    "\n",
    "*Nature isn’t classical, dammit, and if you want to make a simulation of Nature, you’d better make it quantum mechanical, and by golly it’s a wonderful problem, because it doesn’t look so easy.*\n",
    "\n",
    "Richard Feynman speech can be used to see how powerful quantum computing could be to let us understand more about our universe, since quantum physics try to explain and understand how our universe is built from the deepest subatomic dimensions to huge macroscopic phenomena. What can lead us to ask ourselves if our classical compurters are going to be able to solve and deal with problems that nature by essence shows to be a quantum complex behavior, that most likely are exponential problems for our classical computers, like the protein folding process, where dealing with several amino acids combinations we've that as the size of our amino acids basis grows the dimesion of our problem grows exponencially, what is impossible for a classical computer to solve nowdays.\n",
    "\n",
    "So the question is, how quantum computers could solve these kind of problems some day ? With a different model of treating information closer with how our universe and nature behave, from the deepest levels and beyond."
   ]
  },
  {
   "cell_type": "markdown",
   "metadata": {},
   "source": [
    "### Classical Bit vs Qubit"
   ]
  },
  {
   "attachments": {
    "image.png": {
     "image/png": "[encoded data removed]"
    }
   },
   "cell_type": "markdown",
   "metadata": {},
   "source": [
    "Our classical computers, those that we've in home, desktops, notebooks, cellphones all of them in the deepest level stores the information as different sequences of **0s** and **1s**, so as **0100100100** where each entrie is either 0 or either 1. What makes a huge difference when we compare it with how the quantum computers stores information and work with it, where a state 0 or 1 can be seen as a unitary vector state $|\\psi\\rangle$ in a Hilbert space $\\mathcal{H}$ or a Qubit, in the computational basis, defined as:\n",
    "\n",
    "\n",
    "$$\\left|\\psi\\right\\rangle = \\alpha\\left|0\\right\\rangle + \\beta\\left|1\\right\\rangle$$\n",
    "\n",
    "$$|\\alpha|^2 + |\\beta|^2 = 1$$\n",
    "\n",
    "\n",
    "![image.png](attachment:image.png)\n",
    "\n",
    "\n",
    "\n",
    "\n",
    "\n",
    "Where the scalars alpha and beta are used to see the amplitude of each state, or more generally, its probability to colapse over its respective state $|0\\rangle$ or $|1\\rangle$, which is like we could have all possible states at the same time, but we can only measure and see a small piece of this huge information."
   ]
  },
  {
   "cell_type": "markdown",
   "metadata": {},
   "source": [
    "### Quantum Superpostion and Entanglement"
   ]
  },
  {
   "cell_type": "markdown",
   "metadata": {},
   "source": [
    "As we're dealing with quantum behavior some pretty important features of quantum mechanics that are used in quantum computing are the **Quantum Superposition** and the **Quantum Entanglement**. If were given to us a state $\\psi$, when neither of its constants, lets say for example $\\alpha$ and $\\beta$, are null, we say that this state is in **superpostion**. More generally, which means that before a potential measure a phisical system is partially over all possible existants theoretical states.\n",
    "\n",
    "$$\n",
    "|\\psi\\rangle = a_0|0\\rangle + a_1|1\\rangle + \\dots + a_{n-1}|n-1 \\rangle = \\sum_{i=0}^{n-1}a_i|i\\rangle\n",
    "$$\n",
    "\n",
    "$$\n",
    "\\sum_{i = 0}^{n-1} |a_i|^2 = 1\n",
    "$$\n",
    "\n",
    "However when we measure it, it colapses to a unique state, so its like nature is doing a massive work, but it is willing to share with us just a small piece of it, a hint, for us to solve some very difficult problems.\n",
    "\n",
    "The space of these vector states can be seen by tensor product of this system states, so if we've **n** components we can write those as \n",
    "\n",
    "$$\n",
    "\\begin{align*}\n",
    "|\\Psi\\rangle &= |\\psi_0\\rangle \\otimes |\\psi_1\\rangle \\otimes \\dots \\otimes |\\psi_{n-1}\\rangle\\\\\n",
    "             &= |\\psi_0\\rangle |\\psi_1\\rangle \\dots |\\psi_{n-1}\\rangle\\\\\n",
    "             &= |\\psi_0 \\psi_1 \\dots \\psi_{n-1}\\rangle\n",
    "\\end{align*}\n",
    "$$\n",
    "\n",
    "If a state can not be writen by the tensor product of other states we've that this states is **entangled**, so as the wellknown Bell-State\n",
    "\n",
    "\n",
    "$$\n",
    "\\begin{align*}\n",
    "|\\Psi\\rangle = \\frac{|00\\rangle + |11\\rangle}{\\sqrt{2}}\n",
    "\\end{align*}\n",
    "$$\n",
    "\n",
    "\n",
    "Where if we measure one of the Qubits we know exactly the state of the other, even if the other Qubit is in the other side of the galaxy, with is forbidden by the theory of relativity, since it would be faster then the speed of light, which is known as the *EPR Paradox*."
   ]
  },
  {
   "cell_type": "markdown",
   "metadata": {},
   "source": [
    "### Programming with Quantum Gates"
   ]
  },
  {
   "attachments": {
    "image.png": {
     "image/png": "[encoded data removed]"
    }
   },
   "cell_type": "markdown",
   "metadata": {},
   "source": [
    "While Classical Computers works with simple boolean operators like *NOT, NAND, XOR, AND, OR*, Quantum Computers works with Quantum Gates, which mathematically speaking are unitary operators, that manipulates our state, so let $\\mathcal{U}$ be our unitary operator and $|\\psi\\rangle$ our qubit.\n",
    "\n",
    "$$\n",
    "UU^\\dagger = I\n",
    "$$\n",
    "\n",
    "$$\n",
    "|\\psi\\rangle \\rightarrow \\mathcal{U}|\\psi\\rangle\n",
    "$$\n",
    "\n",
    "$$\n",
    "|||\\psi\\rangle|| = ||\\mathcal{U}|\\psi\\rangle|| = 1\n",
    "$$\n",
    "\n",
    "In this context the gates that we'll use are those that work in an unique qubit, therefore our operators will be defined by $M_{2x2}$ matrices over a state $|\\psi\\rangle = \\alpha|0\\rangle + \\beta|1\\rangle$, and some of those operators are the Pauli Matrices, which besides its importance all over quantum computing, they are going to have a great importance to the understanding of the Deutsch-Jozsa Algorithm.\n",
    "\n",
    "\n",
    "$$\n",
    "\\sigma_I = I = \\begin{bmatrix}\n",
    "                1 & 0 \\\\\n",
    "                0 & 1\n",
    "               \\end{bmatrix}\n",
    "$$\n",
    "\n",
    "$$\n",
    "\\sigma_X = X = \\begin{bmatrix}\n",
    "                0 & 1 \\\\\n",
    "                1 & 0\n",
    "               \\end{bmatrix}\n",
    "$$\n",
    "\n",
    "$$\n",
    "\\sigma_Y = Y = \\begin{bmatrix}\n",
    "                0 & -i \\\\\n",
    "                i & 0\n",
    "               \\end{bmatrix}\n",
    "$$\n",
    "\n",
    "$$\n",
    "\\sigma_Z = Z = \\begin{bmatrix}\n",
    "                1 & 0 \\\\\n",
    "                0 & -1\n",
    "               \\end{bmatrix}\n",
    "               \\\\\n",
    "$$\n",
    "\n",
    "![image.png](attachment:image.png)\n",
    "\n",
    "\n",
    "As we already settled superposition is a important feature in quantum computing, how we can solve problems over multiple states at the same time, so if we've a state $|0\\rangle$ or $|1\\rangle$ and want to put it on superposition we can apply we one of the most common and important quantum gates, the Hadarmard Gate, given by the matrix\n",
    "\n",
    "$$\n",
    "\\begin{align*}\n",
    "H &= \\frac{1}{\\sqrt{2}} \\begin{bmatrix}\n",
    "                       1 & 1\\\\\n",
    "                       1 & -1\n",
    "                       \\end{bmatrix}\\\\\\\\\n",
    "  &= \\frac{|0\\rangle + |1\\rangle}{\\sqrt{2}}\\langle0| + \\frac{|0\\rangle - |1\\rangle}{\\sqrt{2}}\\langle1|\n",
    "\\end{align*}\n",
    "$$\n",
    "\n",
    "\n",
    "Hence, if we apply this matrix on the states $|0\\rangle$ or $|1\\rangle$ we'll get the states $|+\\rangle$ and $|-\\rangle$ respectively\n",
    "\n",
    "\n",
    "\n",
    "$$\n",
    "\\begin{align*}\n",
    "\\\\H|0\\rangle = \\frac{1}{\\sqrt{2}} \\begin{bmatrix}\n",
    "                                   1 & 1\\\\\n",
    "                                   1 & -1\n",
    "                                \\end{bmatrix} \n",
    "                                %\n",
    "             \\begin{bmatrix}\n",
    "             1 \\\\\n",
    "             0\n",
    "             \\end{bmatrix}\n",
    "             =\n",
    "             \\frac{|0\\rangle + |1\\rangle}{\\sqrt{2}}\n",
    "             =\n",
    "             |+\\rangle\n",
    "\\\\\\\\H|1\\rangle = \\frac{1}{\\sqrt{2}} \\begin{bmatrix}\n",
    "                                   1 & 1\\\\\n",
    "                                   1 & -1\n",
    "                                \\end{bmatrix} \n",
    "                                %\n",
    "             \\begin{bmatrix}\n",
    "             0 \\\\\n",
    "             1\n",
    "             \\end{bmatrix}\n",
    "             =\n",
    "             \\frac{|0\\rangle - |1\\rangle}{\\sqrt{2}}\n",
    "             =\n",
    "             |-\\rangle\n",
    "\\end{align*}\n",
    "$$\n",
    "\n",
    "Which are the resultant states after we put them on superposition. And since $H$ = $H^\\dagger$, when we apply $HH^\\dagger|\\psi\\rangle = HH^\\dagger|\\psi\\rangle = |\\psi\\rangle $, it restores it to the original input state."
   ]
  },
  {
   "cell_type": "markdown",
   "metadata": {},
   "source": [
    "## The Deutsch-Jozsa Algorithm"
   ]
  },
  {
   "cell_type": "markdown",
   "metadata": {},
   "source": [
    "The Deutsch-Jozsa Algorithm was one of the first algorithms to show a improvement over the classical solution to find whether a function is balanced or constant. Even though the algorithm does not has a important application on real life it show us in a very simple way how this new kind of computing can improve our classical computers algorithm solutions.\n",
    "\n",
    "The functions that will be considerend in this algorithm are those that maps a input $\\{0, 1\\}^{n}$ to an output $\\{0, 1\\}$, i.e, $\\   \\mathcal{f}:\\ \\{0, 1\\}^n \\mapsto \\{0, 1\\}$ , a function is called balanced if exactly half of its inputs give us an output equal to **0** and the other half equals **1**, otherwise if all outputs are equal 0 or equal 1 we've a constant function.\n",
    "\n",
    "$$\n",
    "\\begin{align*}\n",
    "Constant:\\ & f(0, 0) = 1 && f(0, 1) = 1  && f(1, 0) = 1 && f(1, 1) = 1 \\\\\n",
    "Constant:\\ & f(0, 0) = 0 && f(0, 1) = 0  && f(1, 0) = 0 && f(1, 1) = 0 \\\\\n",
    "Balanced:\\ & f(0, 0) = 1 && f(0, 1) = 0  && f(1, 0) = 1 && f(1, 1) = 0 \\\\\n",
    "Balanced:\\ & f(0, 0) = 0 && f(0, 1) = 1  && f(1, 0) = 0 && f(1, 1) = 1 \n",
    "\\end{align*}\n",
    "$$"
   ]
  },
  {
   "cell_type": "markdown",
   "metadata": {},
   "source": [
    "However, even being the \"Hello World\" of the Quantum Algorithms, the The Deutsch-Jozsa Algorithm is not as simple as it looks like. Therefore, as we already discussed the quantum circuits works by applying several unitary matrices operations over a quantum state on the computational basis."
   ]
  },
  {
   "cell_type": "markdown",
   "metadata": {},
   "source": [
    "$$\n",
    "|0\\rangle = \\begin{bmatrix}\n",
    "                1 \\\\\n",
    "                0\n",
    "            \\end{bmatrix}\n",
    "$$"
   ]
  },
  {
   "cell_type": "markdown",
   "metadata": {},
   "source": [
    "$$\n",
    "|1\\rangle = \\begin{bmatrix}\n",
    "                0 \\\\\n",
    "                1\n",
    "            \\end{bmatrix}\n",
    "$$"
   ]
  },
  {
   "cell_type": "markdown",
   "metadata": {},
   "source": [
    "We can apply our operations over several qubits, i.e, over the tensor product of simpler, in order to get more complex systems and inputs. Therefore we can introduce the Deutsch-Jozsa Algorithm Circuit."
   ]
  },
  {
   "attachments": {
    "image.png": {
     "image/png": "[encoded data removed]"
    }
   },
   "cell_type": "markdown",
   "metadata": {},
   "source": [
    "![image.png](attachment:image.png)"
   ]
  },
  {
   "cell_type": "markdown",
   "metadata": {},
   "source": [
    "**Firstly** we can itialize our register as the tensor product of **n** $|0\\rangle$ states and one $|1\\rangle$ that will be used to give us what is called a kick-back, therefore:"
   ]
  },
  {
   "cell_type": "markdown",
   "metadata": {},
   "source": [
    "$$\n",
    "\\begin{align*}\n",
    "    |\\psi_0\\rangle & =  |0\\rangle^{\\otimes n} \\otimes |1\\rangle\\\\\n",
    "                   & =  |0\\rangle^{\\otimes n} |1\\rangle\n",
    "\\end{align*}\n",
    "$$"
   ]
  },
  {
   "cell_type": "markdown",
   "metadata": {},
   "source": [
    "The **second** step is to put our state in superposition, by applying Hadarmard gates in our input as it follows:"
   ]
  },
  {
   "cell_type": "markdown",
   "metadata": {},
   "source": [
    "$$\n",
    "\\begin{align*}\n",
    "    |\\psi_1\\rangle & =  H^{\\otimes n}|0\\rangle^{\\otimes n} \\otimes H|1\\rangle\\\\\n",
    "                   & =  H^{\\otimes n}|0\\rangle^{\\otimes n} H|1\\rangle\\\\\n",
    "                   & =  |+\\rangle^{\\otimes n}|-\\rangle\\\\\n",
    "                   & = {\\frac{1}{\\sqrt{2^n}}}\\sum_{x \\in \\{0, 1\\}^{n}} |x\\rangle\\bigg(\\frac{|0\\rangle - |1\\rangle}{\\sqrt2}\\bigg)\n",
    "\\end{align*}\n",
    "$$"
   ]
  },
  {
   "cell_type": "markdown",
   "metadata": {},
   "source": [
    "After that, the next step is to apply the $U_f$ oracle, which is the main function in our circuit that give us if our input function is balanced or constant, but this result it not be observable yet. "
   ]
  },
  {
   "cell_type": "markdown",
   "metadata": {},
   "source": [
    "$$\n",
    "\\begin{align*}\n",
    "    |\\psi_2\\rangle \n",
    "                   & = {\\frac{1}{\\sqrt{2^n}}}\\mathrm{U_f}\\bigg(\\sum_{x \\in \\{0, 1\\}^{n}} |x\\rangle\\bigg(\\frac{|0\\rangle - |1\\rangle}{\\sqrt2}\\bigg)\\bigg)\n",
    "\\end{align*}\n",
    "$$"
   ]
  },
  {
   "cell_type": "markdown",
   "metadata": {},
   "source": [
    "The function will not change the first **n** qubits, but the second one will be changed as it follows:\n",
    "\n",
    "$$\n",
    "\\begin{align*}\n",
    "    |\\psi_2\\rangle \n",
    "                   & = {\\frac{1}{\\sqrt{2^n}}}\\sum_{x \\in \\{0, 1\\}^{n}} |x\\rangle\\bigg(\\frac{|0 \\oplus f(x)\\rangle - |1 \\oplus f(x)\\rangle}{\\sqrt2}\\bigg)\\\\\n",
    "                   & \\equiv {\\frac{1}{\\sqrt{2^n}}}\\sum_{x \\in \\{0, 1\\}^{n}} (-1)^{f(x)} |x\\rangle\\bigg(\\frac{|0\\rangle - |1\\rangle}{\\sqrt2}\\bigg) & \\text{The kickback give us this formulation}\\\\\n",
    "                   & \\equiv {\\frac{1}{\\sqrt{2^n}}}\\sum_{x \\in \\{0, 1\\}^{n}} (-1)^{f(x)} |x\\rangle &\\text{            Ignoring the second qubit}\\\\\n",
    "\\end{align*}\n",
    "$$"
   ]
  },
  {
   "cell_type": "markdown",
   "metadata": {},
   "source": [
    "Now that we already have our $U_f$ oracle function output for the first **n** qubits remains to us only to apply the Hadamard Gate on it and to measure the result. The general formulation for applying the Hadarmard gate on n qubit on superposition is given by"
   ]
  },
  {
   "cell_type": "markdown",
   "metadata": {},
   "source": [
    "$$\n",
    "|\\psi_3\\rangle = \\frac{1}{2^n}\\sum_{x \\in \\{0, 1\\}^n}(-1)^{f(x)}\\sum_{z \\in \\{0, 1\\}^n} (-1)^{\\langle x, z\\rangle}|x\\rangle\n",
    "$$"
   ]
  },
  {
   "cell_type": "markdown",
   "metadata": {},
   "source": [
    "Then, when $f(x)$ is balance $z = |00000 \\dots 0\\rangle$ the inner procuct sum will cancel each other term by term, which will give us that the amplitude to find the result on the state $|0000 \\dots 0\\rangle$ is null. Otherwise, we have a constant function and the amplitude of $|0000 \\dots 0\\rangle$ after the result on the measurement is either 1 or -1, which is a 1 probability of finding it on the state $|0000 \\dots 0\\rangle$."
   ]
  },
  {
   "cell_type": "markdown",
   "metadata": {},
   "source": [
    "## Example"
   ]
  },
  {
   "cell_type": "markdown",
   "metadata": {},
   "source": [
    "Lets do a small example to see how it work properly for one random function in the required format, so as \n",
    "\n",
    "$$\n",
    "    f(0, 0) = 0\\\\\n",
    "    f(0, 1) = 1\\\\\n",
    "    f(1, 0) = 1\\\\\n",
    "    f(0, 0) = 0\n",
    "$$\n",
    "\n",
    "We know that this is a balanced function, since it is a pretty small example, but the algorithm still blinded for it.\n",
    "\n",
    "We will need three Qubits in our input, where there first two will be equal to $|0\\rangle$ and the third one will be $|1\\rangle$."
   ]
  },
  {
   "cell_type": "markdown",
   "metadata": {},
   "source": [
    "$$\n",
    "\\begin{align*}\n",
    "    |\\psi_0\\rangle & =  |0\\rangle^{\\otimes 2} \\otimes |1\\rangle\\\\\n",
    "                   & =  |0\\rangle^{\\otimes 2} |1\\rangle\\\\\n",
    "                   & =  |00\\rangle|1\\rangle\n",
    "\\end{align*}\n",
    "$$"
   ]
  },
  {
   "cell_type": "markdown",
   "metadata": {},
   "source": [
    "Now we must apply the Hadarmard Gates on it as it follow \n",
    "\n",
    "$$\n",
    "\\begin{align*}\n",
    "    |\\psi_1\\rangle & =  H^{\\otimes 2}|00\\rangle H|1\\rangle\\\\\n",
    "                   & = |+\\rangle^{\\otimes 2}|-\\rangle\\\\\n",
    "                   & = \\bigg(\\frac{|0\\rangle + |1\\rangle}{\\sqrt{2}}\\bigg)\\otimes\\bigg(\\frac{|0\\rangle + |1\\rangle}{\\sqrt{2}}\\bigg)\\otimes\\bigg(\\frac{|0\\rangle - |1\\rangle}{\\sqrt{2}}\\bigg)\\\\\n",
    "                   & = \\frac{1}{2}\\bigg(|00\\rangle + |01\\rangle + |10\\rangle + |11\\rangle\\bigg)\\otimes\\bigg(\\frac{|0\\rangle - |1\\rangle}{\\sqrt{2}}\\bigg)\\\\\n",
    "                   & = \\frac{1}{2}\\bigg(|00\\rangle + |01\\rangle + |10\\rangle + |11\\rangle\\bigg)\\bigg(\\frac{|0\\rangle - |1\\rangle}{\\sqrt{2}}\\bigg)\n",
    "\\end{align*}\n",
    "$$"
   ]
  },
  {
   "cell_type": "markdown",
   "metadata": {},
   "source": [
    "Now that we've our state on superpostion we must apply the $U_f$ function on the state $|\\psi_1\\rangle$, so that\n",
    "\n",
    "$$\n",
    "\\begin{align*}\n",
    "|\\psi_2\\rangle & = \\frac{1}{2}\\bigg(|00\\rangle + |01\\rangle + |10\\rangle + |11\\rangle\\bigg)U_f\\bigg(\\bigg(\\frac{|0\\rangle - |1\\rangle}{\\sqrt{2}}\\bigg)\\bigg)\\\\\n",
    "               & = \\frac{1}{2\\sqrt{2}} \\sum_{x \\in \\{0, 1\\}^2} |x\\rangle \\bigg(|0 \\oplus f(x)\\rangle - |1 \\oplus f(x)\\rangle\\bigg)\\\\\n",
    "               & = \\frac{1}{2\\sqrt{2}}\\bigg[|00\\rangle \\bigg(|0\\rangle - |1\\rangle\\bigg) - |01\\rangle \\bigg(|0\\rangle - |1\\rangle\\bigg) - |10\\rangle \\bigg(|0\\rangle - |1\\rangle\\bigg) + |11\\rangle \\bigg(|0\\rangle - |1\\rangle\\bigg)\\bigg]\n",
    "\\end{align*}\n",
    "$$"
   ]
  },
  {
   "cell_type": "markdown",
   "metadata": {},
   "source": [
    "Now as we did at the explanation above we will ignore the last Qubit and evaluate our circuit only by the first **n** Qubits.\n",
    "\n",
    "$$\n",
    "  |\\psi_2\\rangle = \\frac{1}{2}\\bigg[|00\\rangle - |01\\rangle - |10\\rangle + |11\\rangle\\bigg]\n",
    "$$\n",
    "\n",
    "Then remain to us only to apply the Hadamard Gate on this state to get our result, in order to make it simpler we will use the matrix notation of the Hadamard $H^{\\otimes 2}$ to get the computation result.\n",
    "\n",
    "$$\n",
    "\\begin{align*}\n",
    "    |\\psi_3\\rangle & =  H^{\\otimes 2}|\\psi_2\\rangle\\\\ \n",
    "                & = \\begin{bmatrix}\n",
    "                      1 & 1 & 1 & 1\\\\\n",
    "                      1 & -1 & 1 & -1\\\\\n",
    "                      1 & 1 & -1 & -1\\\\\n",
    "                      1 & -1 & -1 & 1\n",
    "                      \\end{bmatrix}%\n",
    "                      \\frac{1}{2}\n",
    "                      %\n",
    "                     \\begin{bmatrix}\n",
    "                      1\\\\\n",
    "                      -1\\\\\n",
    "                      -1\\\\\n",
    "                      1\n",
    "                      \\end{bmatrix}\\\\\n",
    "                 & = |11\\rangle\n",
    "\\end{align*}\n",
    "$$"
   ]
  },
  {
   "cell_type": "markdown",
   "metadata": {},
   "source": [
    "Where the measurement on the first two Qubits will be strictly different then $|00\\rangle$, therefore our function is balanced, as expected."
   ]
  },
  {
   "cell_type": "markdown",
   "metadata": {},
   "source": [
    "## Implemention"
   ]
  },
  {
   "cell_type": "markdown",
   "metadata": {},
   "source": [
    "Now that we understand how the algorithm works and saw a small example we can use the Qiskit library to simulate it and observe the results, comparing it with our theoretical explanations. "
   ]
  },
  {
   "cell_type": "code",
   "execution_count": 3,
   "metadata": {},
   "outputs": [],
   "source": [
    "'''\n",
    "RANDOM EXAMPLE BASED ON IBM\n",
    "QISKIT TUTORIAL EXAMPLE\n",
    "reference: https://community.qiskit.org/textbook/ch-algorithms/deutsch-josza.html\n",
    "'''\n",
    "\n",
    "#n is the number of elements needed in the function input\n",
    "n = 5\n",
    "\n",
    "#define the oracle type, i.e, if our function is constant or balanced\n",
    "oracle = \"b\"\n",
    "\n",
    "#if is balanced we define which of the vector 2**n will held\n",
    "#the algorithm result\n",
    "if oracle == \"b\":\n",
    "    b = np.random.randint(1,2**n) \n",
    "    \n",
    "#if it's constant we set randomly if the results are 0 or 1\n",
    "if oracle == \"c\":\n",
    "    c = np.random.randint(2)\n",
    "\n",
    "#set n_qbits as the number of quantum register on the input\n",
    "#and the classical register as n_bits\n",
    "n_qbits = QuantumRegister(n+1)\n",
    "n_bits = ClassicalRegister(n)\n",
    "\n",
    "#build the circuit based on it\n",
    "djAlgCircuit = QuantumCircuit(n_qbits, n_bits)\n",
    "\n",
    "#as we need a |1> qbit to do the kickback in our circuit\n",
    "#we apply the X operator on the last |0> qbit to flip its\n",
    "#entrie and change it to |1>\n",
    "djAlgCircuit.x(n_qbits[n])\n",
    "\n",
    "#Apply this in order to viasualize our oracle on the \n",
    "#circuit plot\n",
    "\n",
    "#Apply the Hadarmard gates on the n qbits and put them\n",
    "#on the superposition state\n",
    "djAlgCircuit.h(n_qbits)    \n",
    "\n",
    "djAlgCircuit.barrier()\n",
    "\n",
    "#If it is constants just flip the value of the last qbit to 0 if c is one,\n",
    "#Apply the identity otherwise\n",
    "#If it is balanced we will shift the bits and apply the CNOT operator at the\n",
    "#marked position b and the last qbit, it works like our $|y \\oplus f(x)>$\n",
    "if oracle == \"c\": \n",
    "    if c == 1:\n",
    "        djAlgCircuit.x(n_qbits[n])\n",
    "    else:\n",
    "        djAlgCircuit.iden(n_qbits[n])\n",
    "else:  \n",
    "    for i in range(n):\n",
    "        if (b & (1 << i)):\n",
    "            djAlgCircuit.cx(n_qbits[i], n_qbits[n])\n",
    "\n",
    "\n",
    "djAlgCircuit.barrier()\n",
    "\n",
    "#Apply the Hadamard gates to get our result\n",
    "for i in range(n):\n",
    "    djAlgCircuit.h(n_qbits[i])\n",
    "\n",
    "#Measure the amplitude of the first n qbits\n",
    "for i in range(n):\n",
    "    djAlgCircuit.measure(n_qbits[i], n_bits[i])\n",
    "    \n",
    "backend = BasicAer.get_backend('qasm_simulator')\n",
    "shots = 1024\n",
    "results = execute(djAlgCircuit, backend=backend, shots=shots).result()\n",
    "answer = results.get_counts()"
   ]
  },
  {
   "cell_type": "code",
   "execution_count": 4,
   "metadata": {},
   "outputs": [
    {
     "data": {
      "image/png": "[encoded data removed]",
      "text/plain": [
       "<Figure size 829.556x445.48 with 1 Axes>"
      ]
     },
     "execution_count": 4,
     "metadata": {},
     "output_type": "execute_result"
    }
   ],
   "source": [
    "djAlgCircuit.draw(output='mpl')"
   ]
  },
  {
   "cell_type": "code",
   "execution_count": 5,
   "metadata": {},
   "outputs": [
    {
     "data": {
      "image/png": "[encoded data removed]",
      "text/plain": [
       "<Figure size 504x360 with 1 Axes>"
      ]
     },
     "execution_count": 5,
     "metadata": {},
     "output_type": "execute_result"
    }
   ],
   "source": [
    "plot_histogram(answer)"
   ]
  },
  {
   "cell_type": "code",
   "execution_count": 6,
   "metadata": {},
   "outputs": [],
   "source": [
    "'''\n",
    "CODE OF THE EXAMPLE\n",
    "DESCRIBED ABOVE\n",
    "\n",
    "f(0, 0) = 0 / f(0, 1) = 1 / f(1, 0) = 1 / f(1, 1) = 0\n",
    "\n",
    "balanced function\n",
    "'''\n",
    "\n",
    "size = 2\n",
    "m = 3\n",
    "\n",
    "#Initialize registers\n",
    "qb_rg = QuantumRegister(size+1)\n",
    "b_rg = ClassicalRegister(size)\n",
    "\n",
    "#Build Circuit\n",
    "exDjCircuit = QuantumCircuit(qb_rg, b_rg)\n",
    "\n",
    "#Apply X gate on the last one\n",
    "exDjCircuit.x(qb_rg[size])\n",
    "\n",
    "#Apply H gates\n",
    "exDjCircuit.h(qb_rg)\n",
    "\n",
    "exDjCircuit.barrier()\n",
    "\n",
    "#Apply CNOT gate in function of m\n",
    "for i in range(size):\n",
    "    if (m & (1 << i)):\n",
    "        exDjCircuit.cx(qb_rg[i], qb_rg[size])\n",
    "\n",
    "exDjCircuit.barrier()\n",
    "\n",
    "#Apply H gates\n",
    "for i in range(size):\n",
    "    exDjCircuit.h(qb_rg[i])\n",
    "\n",
    "#Measure the first n qbits\n",
    "for i in range(size):\n",
    "    exDjCircuit.measure(qb_rg[i], b_rg[i])\n",
    "    \n",
    "bk = BasicAer.get_backend('qasm_simulator')\n",
    "atp = 1024\n",
    "res = execute(exDjCircuit, backend=bk, shots=atp).result()\n",
    "ans = res.get_counts()"
   ]
  },
  {
   "cell_type": "code",
   "execution_count": 7,
   "metadata": {},
   "outputs": [
    {
     "data": {
      "image/png": "[encoded data removed]",
      "text/plain": [
       "<Figure size 709.156x264.88 with 1 Axes>"
      ]
     },
     "execution_count": 7,
     "metadata": {},
     "output_type": "execute_result"
    }
   ],
   "source": [
    "exDjCircuit.draw(output='mpl')"
   ]
  },
  {
   "cell_type": "code",
   "execution_count": 8,
   "metadata": {
    "scrolled": true
   },
   "outputs": [
    {
     "data": {
      "image/png": "[encoded data removed]",
      "text/plain": [
       "<Figure size 504x360 with 1 Axes>"
      ]
     },
     "execution_count": 8,
     "metadata": {},
     "output_type": "execute_result"
    }
   ],
   "source": [
    "plot_histogram(ans)"
   ]
  },
  {
   "cell_type": "code",
   "execution_count": 11,
   "metadata": {},
   "outputs": [
    {
     "name": "stdout",
     "output_type": "stream",
     "text": [
      "least busy backend:  ibmq_burlington\n"
     ]
    }
   ],
   "source": [
    "IBMQ.load_account()\n",
    "provider = IBMQ.get_provider(hub='ibm-q')\n",
    "provider.backends()\n",
    "backend = least_busy(provider.backends(filters=lambda x: x.configuration().n_qubits <= 5 and \n",
    "                                   not x.configuration().simulator and x.status().operational==True))\n",
    "print(\"least busy backend: \", backend)"
   ]
  },
  {
   "cell_type": "code",
   "execution_count": 13,
   "metadata": {},
   "outputs": [
    {
     "name": "stdout",
     "output_type": "stream",
     "text": [
      "Job Status: job has successfully run\n"
     ]
    }
   ],
   "source": [
    "from qiskit.tools.monitor import job_monitor\n",
    "\n",
    "shots = 1024\n",
    "job = execute(exDjCircuit, backend=backend, shots=shots)\n",
    "\n",
    "job_monitor(job, interval = 2)"
   ]
  },
  {
   "cell_type": "code",
   "execution_count": 14,
   "metadata": {},
   "outputs": [
    {
     "data": {
      "image/png": "[encoded data removed]",
      "text/plain": [
       "<Figure size 504x360 with 1 Axes>"
      ]
     },
     "execution_count": 14,
     "metadata": {},
     "output_type": "execute_result"
    }
   ],
   "source": [
    "results = job.result()\n",
    "answer = results.get_counts()\n",
    "\n",
    "plot_histogram(answer)"
   ]
  },
  {
   "cell_type": "markdown",
   "metadata": {},
   "source": [
    "### References"
   ]
  },
  {
   "cell_type": "markdown",
   "metadata": {},
   "source": [
    "__[Wikipedia Deutsch-Jozsa Algorithm](https://en.wikipedia.org/wiki/Deutsch%E2%80%93Jozsa_algorithm)__\\\n",
    "__[QC - Quantum Computing Series](https://medium.com/@jonathan_hui/qc-quantum-computing-series-10ddd7977abd)__\\\n",
    "__[Learn Quantum Computation using Qiskit](https://community.qiskit.org/textbook/)__"
   ]
  }
 ],
 "metadata": {
  "kernelspec": {
   "display_name": "Python 3",
   "language": "python",
   "name": "python3"
  },
  "language_info": {
   "codemirror_mode": {
    "name": "ipython",
    "version": 3
   },
   "file_extension": ".py",
   "mimetype": "text/x-python",
   "name": "python",
   "nbconvert_exporter": "python",
   "pygments_lexer": "ipython3",
   "version": "3.7.4"
  }
 },
 "nbformat": 4,
 "nbformat_minor": 2
}
